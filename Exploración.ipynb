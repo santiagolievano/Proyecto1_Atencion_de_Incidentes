{
 "cells": [
  {
   "cell_type": "markdown",
   "id": "5d1a9a80",
   "metadata": {},
   "source": [
    "# Proyecto 1 – Atención de Incidentes  \n",
    "## Tarea 2 – Exploración de Datos (EDA)\n",
    "\n",
    "Estadísticas descriptivas y visualizaciones (histogramas, diagramas de caja, diagramas de dispersión, diagramas de violín y otros que permiten comprender cómo se comportan las variables)."
   ]
  },
  {
   "cell_type": "code",
   "execution_count": null,
   "id": "8565ee00",
   "metadata": {},
   "outputs": [],
   "source": []
  }
 ],
 "metadata": {
  "language_info": {
   "name": "python"
  }
 },
 "nbformat": 4,
 "nbformat_minor": 5
}
